{
 "cells": [
  {
   "cell_type": "markdown",
   "metadata": {},
   "source": [
    "# FLOPS Calculation"
   ]
  },
  {
   "cell_type": "markdown",
   "metadata": {},
   "source": [
    "## Question 2 (c)"
   ]
  },
  {
   "cell_type": "code",
   "execution_count": null,
   "metadata": {},
   "outputs": [
    {
     "name": "stdout",
     "output_type": "stream",
     "text": [
      "Forward FLOPS: 9.68e+10\n",
      "Backward FLOPS: 1.94e+11\n"
     ]
    }
   ],
   "source": [
    "def calculate_flops(num_layers, seq_length, d_model):\n",
    "    \"\"\"\n",
    "    Calculate FLOPS for a transformer model.\n",
    "\n",
    "    Args:\n",
    "        num_layers (int): Number of transformer layers.\n",
    "        seq_length (int): Input sequence length.\n",
    "        d_model (int): Hidden size.\n",
    "\n",
    "    Returns:\n",
    "        forward_flops (float): FLOPS for forward pass.\n",
    "        backward_flops (float): FLOPS for backward pass.\n",
    "    \"\"\"\n",
    "    # Attention FLOPS\n",
    "    attention_flops = (\n",
    "        3 * seq_length * d_model**2 +\n",
    "        seq_length**2 * d_model +\n",
    "        seq_length**2 * 11 +\n",
    "        seq_length**2 * d_model +\n",
    "        seq_length * d_model**2\n",
    "    )\n",
    "\n",
    "    # Feedforward FLOPS\n",
    "    ff_flops = (\n",
    "        4 * seq_length * d_model**2 +\n",
    "        8 * seq_length * d_model +\n",
    "        4 * seq_length * d_model**2\n",
    "    )\n",
    "\n",
    "    # RMSNorm FLOPS\n",
    "    norm_flops = seq_length * d_model * 2\n",
    "\n",
    "    # Residual Connection FLOPS\n",
    "    residual_flops = 2 * seq_length * d_model\n",
    "\n",
    "    # FLOPS per layer\n",
    "    flops_per_layer = attention_flops + ff_flops + norm_flops + residual_flops\n",
    "\n",
    "    # Total FLOPS\n",
    "    forward_flops = num_layers * flops_per_layer\n",
    "    backward_flops = 2 * forward_flops\n",
    "\n",
    "    return forward_flops, backward_flops\n",
    "\n",
    "# Example:\n",
    "num_layers = 24      # 24 transformer layers\n",
    "seq_length = 512     # 512 token input length\n",
    "d_model = 768        # 768-dimensional hidden size\n",
    "\n",
    "forward_flops, backward_flops = calculate_flops(num_layers, seq_length, d_model)\n",
    "\n",
    "print(f\"Forward FLOPS: {forward_flops:.2e}\")\n",
    "print(f\"Backward FLOPS: {backward_flops:.2e}\")"
   ]
  }
 ],
 "metadata": {
  "language_info": {
   "name": "python"
  }
 },
 "nbformat": 4,
 "nbformat_minor": 2
}

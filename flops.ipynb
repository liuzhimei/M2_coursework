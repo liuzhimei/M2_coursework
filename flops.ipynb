{
 "cells": [
  {
   "cell_type": "markdown",
   "metadata": {},
   "source": [
    "# FLOPS Calculation"
   ]
  },
  {
   "cell_type": "code",
   "execution_count": 5,
   "metadata": {},
   "outputs": [],
   "source": [
    "# parameters\n",
    "num_layers = 24      # number of transformer layers\n",
    "seq_length = 512     # token input length\n",
    "D_model = 896        # hidden size\n",
    "d_FFN = D_model * 4\n",
    "num_heads = 14\n",
    "rank = 8"
   ]
  },
  {
   "cell_type": "markdown",
   "metadata": {},
   "source": [
    "## Question 2 (c) FLOPS for Qwen model"
   ]
  },
  {
   "cell_type": "code",
   "execution_count": 9,
   "metadata": {},
   "outputs": [
    {
     "name": "stdout",
     "output_type": "stream",
     "text": [
      "Forward FLOPS: 1.03e+12\n"
     ]
    }
   ],
   "source": [
    "def calculate_flops(num_layers, seq_length, D_model, D_FFN, num_heads):\n",
    "    \"\"\"\n",
    "    Calculate FLOPS for Qwen model.\n",
    "\n",
    "    Args:\n",
    "        num_layers (int): Number of transformer layers.\n",
    "        seq_length (int): Input sequence length.\n",
    "        D_model (int): Hidden size.\n",
    "        D_FFN: hidden size for FFN\n",
    "        num_heads: number of transformer heads for Qwen model\n",
    "\n",
    "    Returns:\n",
    "        forward_flops (float): FLOPS for forward pass.\n",
    "        backward_flops (float): FLOPS for backward pass.\n",
    "    \"\"\"\n",
    "    \n",
    "    # Attention FLOPS\n",
    "    attention_flops = (\n",
    "        6 * seq_length * D_model**2 +\n",
    "        seq_length**2 * (2 * D_model - num_heads) +\n",
    "        num_heads * (11 * seq_length**2 + seq_length*(10*seq_length+seq_length-1) + seq_length**2 + 10) +\n",
    "        D_model * seq_length * (2*seq_length - 1) +\n",
    "        seq_length * D_model * (2*D_model - 1)\n",
    "    )\n",
    "\n",
    "    # Feedforward FLOPS\n",
    "    FFN_flops = seq_length * (6*D_model*D_FFN + 13*D_FFN)\n",
    "\n",
    "    # RMSNorm FLOPS\n",
    "    norm_flops = (3*D_model + 12) * seq_length\n",
    "\n",
    "    # Residual Connection FLOPS\n",
    "    residual_flops = 2 * seq_length * D_model\n",
    "\n",
    "    # positional embedding\n",
    "    pos_embedding_flops = 3 * D_model * seq_length * (2*D_model/num_heads - 1)\n",
    "\n",
    "    # FLOPS per layer\n",
    "    flops_per_layer = attention_flops + FFN_flops + norm_flops + residual_flops + pos_embedding_flops\n",
    "\n",
    "    # Total FLOPS\n",
    "    forward_flops = num_layers * flops_per_layer\n",
    "    backward_flops = 2 * forward_flops\n",
    "\n",
    "    total_flops = forward_flops + backward_flops\n",
    "\n",
    "    return total_flops\n",
    "\n",
    "total_flops = calculate_flops(num_layers, seq_length, D_model, d_FFN, num_heads)\n",
    "\n",
    "print(f\"Forward FLOPS: {total_flops:.2e}\")"
   ]
  },
  {
   "cell_type": "markdown",
   "metadata": {},
   "source": [
    "## Question 3(b): FLOPS for Qwen with LoRA"
   ]
  },
  {
   "cell_type": "code",
   "execution_count": 10,
   "metadata": {},
   "outputs": [
    {
     "name": "stdout",
     "output_type": "stream",
     "text": [
      "Forward FLOPS with LoRA: 1.04e+12\n"
     ]
    }
   ],
   "source": [
    "def calculate_flops_with_lora(num_layers, seq_length, D_model, D_FFN, num_heads, rank):\n",
    "    lora_flops = 3 * (4 * rank * num_layers * D_model**2) # forward + backward flops together\n",
    "    total_flops = calculate_flops(num_layers, seq_length, D_model, D_FFN, num_heads)\n",
    "    total_flops_with_lora = lora_flops + total_flops\n",
    "    return total_flops_with_lora\n",
    "\n",
    "total_flops_with_lora = calculate_flops_with_lora(num_layers, seq_length, D_model, d_FFN, num_heads, rank)\n",
    "\n",
    "print(f\"Forward FLOPS with LoRA: {total_flops_with_lora:.2e}\")"
   ]
  }
 ],
 "metadata": {
  "language_info": {
   "name": "python"
  }
 },
 "nbformat": 4,
 "nbformat_minor": 2
}

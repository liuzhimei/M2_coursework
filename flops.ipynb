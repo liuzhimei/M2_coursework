{
 "cells": [
  {
   "cell_type": "markdown",
   "metadata": {},
   "source": [
    "# FLOPS Calculation"
   ]
  },
  {
   "cell_type": "code",
   "execution_count": 14,
   "metadata": {},
   "outputs": [
    {
     "name": "stdout",
     "output_type": "stream",
     "text": [
      "Qwen2ForCausalLM(\n",
      "  (model): Qwen2Model(\n",
      "    (embed_tokens): Embedding(151936, 896)\n",
      "    (layers): ModuleList(\n",
      "      (0-23): 24 x Qwen2DecoderLayer(\n",
      "        (self_attn): Qwen2Attention(\n",
      "          (q_proj): Linear(in_features=896, out_features=896, bias=True)\n",
      "          (k_proj): Linear(in_features=896, out_features=128, bias=True)\n",
      "          (v_proj): Linear(in_features=896, out_features=128, bias=True)\n",
      "          (o_proj): Linear(in_features=896, out_features=896, bias=False)\n",
      "        )\n",
      "        (mlp): Qwen2MLP(\n",
      "          (gate_proj): Linear(in_features=896, out_features=4864, bias=False)\n",
      "          (up_proj): Linear(in_features=896, out_features=4864, bias=False)\n",
      "          (down_proj): Linear(in_features=4864, out_features=896, bias=False)\n",
      "          (act_fn): SiLU()\n",
      "        )\n",
      "        (input_layernorm): Qwen2RMSNorm((896,), eps=1e-06)\n",
      "        (post_attention_layernorm): Qwen2RMSNorm((896,), eps=1e-06)\n",
      "      )\n",
      "    )\n",
      "    (norm): Qwen2RMSNorm((896,), eps=1e-06)\n",
      "    (rotary_emb): Qwen2RotaryEmbedding()\n",
      "  )\n",
      "  (lm_head): Linear(in_features=896, out_features=151936, bias=False)\n",
      ")\n"
     ]
    }
   ],
   "source": [
    "from transformers import AutoModelForCausalLM\n",
    "model_name = \"Qwen/Qwen2.5-0.5B-Instruct\"\n",
    "model = AutoModelForCausalLM.from_pretrained(model_name)\n",
    "\n",
    "# Print model parameters\n",
    "print(model)"
   ]
  },
  {
   "cell_type": "code",
   "execution_count": 4,
   "metadata": {},
   "outputs": [],
   "source": [
    "# parameters\n",
    "num_layers = 24      # number of transformer layers\n",
    "seq_length = 512     # token input length\n",
    "D_model = 896        # hidden size\n",
    "d_FFN = 4864\n",
    "num_heads = 14\n",
    "rank = 4"
   ]
  },
  {
   "cell_type": "markdown",
   "metadata": {},
   "source": [
    "## Question 2 (c) FLOPS for Qwen model"
   ]
  },
  {
   "cell_type": "code",
   "execution_count": 10,
   "metadata": {},
   "outputs": [
    {
     "name": "stdout",
     "output_type": "stream",
     "text": [
      "Total FLOPS: 1.29e+12\n"
     ]
    }
   ],
   "source": [
    "def calculate_flops(num_layers, seq_length, D_model, D_FFN, num_heads):\n",
    "    \"\"\"\n",
    "    Calculate FLOPS for Qwen model.\n",
    "\n",
    "    Args:\n",
    "        num_layers (int): Number of transformer layers.\n",
    "        seq_length (int): Input sequence length.\n",
    "        D_model (int): Hidden size.\n",
    "        D_FFN: hidden size for FFN\n",
    "        num_heads: number of transformer heads for Qwen model\n",
    "\n",
    "    Returns:\n",
    "        forward_flops (float): FLOPS for forward pass.\n",
    "        backward_flops (float): FLOPS for backward pass.\n",
    "    \"\"\"\n",
    "    \n",
    "    # Attention FLOPS\n",
    "    attention_flops = (\n",
    "        6 * seq_length * D_model**2 +\n",
    "        seq_length**2 * (2 * D_model - num_heads) +\n",
    "        num_heads * (11 * seq_length**2 + seq_length*(10*seq_length+seq_length-1) + seq_length**2 + 10) +\n",
    "        D_model * seq_length * (2*seq_length - 1) +\n",
    "        seq_length * D_model * (2*D_model - 1)\n",
    "    )\n",
    "\n",
    "    # Feedforward FLOPS\n",
    "    FFN_flops = seq_length * (6*D_model*D_FFN + 13*D_FFN)\n",
    "\n",
    "    # RMSNorm FLOPS\n",
    "    norm_flops = (3*D_model + 12) * seq_length\n",
    "\n",
    "    # Residual Connection FLOPS\n",
    "    residual_flops = 2 * seq_length * D_model\n",
    "\n",
    "    # positional embedding\n",
    "    pos_embedding_flops = 3 * D_model * seq_length * (2*D_model/num_heads - 1)\n",
    "\n",
    "    # FLOPS per layer\n",
    "    flops_per_layer = attention_flops + FFN_flops + norm_flops + residual_flops + pos_embedding_flops\n",
    "\n",
    "    # Total FLOPS\n",
    "    forward_flops = num_layers * flops_per_layer\n",
    "    backward_flops = 2 * forward_flops\n",
    "\n",
    "    total_flops = forward_flops + backward_flops\n",
    "\n",
    "    return total_flops\n",
    "\n",
    "total_flops = calculate_flops(num_layers, seq_length, D_model, d_FFN, num_heads)\n",
    "\n",
    "print(f\"Total FLOPS: {total_flops:.2e}\")"
   ]
  },
  {
   "cell_type": "markdown",
   "metadata": {},
   "source": [
    "## Question 3(b): FLOPS for Qwen with LoRA"
   ]
  },
  {
   "cell_type": "code",
   "execution_count": 15,
   "metadata": {},
   "outputs": [
    {
     "name": "stdout",
     "output_type": "stream",
     "text": [
      "Total FLOPS with LoRA for experiment 1: 1.54e+15\n",
      "Total FLOPS with LoRA for experiment 2: 6.45e+15\n",
      "Total FLOPS with LoRA for experiment 3: 9.95e+15\n"
     ]
    }
   ],
   "source": [
    "def calculate_flops_with_lora(num_layers, seq_length, D_model, D_FFN, num_heads, rank, num_steps):\n",
    "    lora_flops = 3 * (4 * rank * num_layers * D_model**2) # forward + backward flops together\n",
    "    total_flops = calculate_flops(num_layers, seq_length, D_model, D_FFN, num_heads)\n",
    "    total_flops_with_lora = num_steps * (lora_flops + total_flops)\n",
    "    return total_flops_with_lora\n",
    "\n",
    "experiment_1 = calculate_flops_with_lora(num_layers=24, seq_length=128, D_model=896, D_FFN=4864, num_heads=14, rank=2, num_steps=5000)\n",
    "experiment_2 = calculate_flops_with_lora(num_layers=24, seq_length=512, D_model=896, D_FFN=4864, num_heads=14, rank=4, num_steps=5000)\n",
    "experiment_3 = calculate_flops_with_lora(num_layers=24, seq_length=768, D_model=896, D_FFN=4864, num_heads=14, rank=8, num_steps=5000)\n",
    "\n",
    "\n",
    "print(f\"Total FLOPS with LoRA for experiment 1: {experiment_1:.2e}\")\n",
    "print(f\"Total FLOPS with LoRA for experiment 2: {experiment_2:.2e}\")\n",
    "print(f\"Total FLOPS with LoRA for experiment 3: {experiment_3:.2e}\")"
   ]
  }
 ],
 "metadata": {
  "language_info": {
   "name": "python"
  }
 },
 "nbformat": 4,
 "nbformat_minor": 2
}
